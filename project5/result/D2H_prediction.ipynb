{
 "cells": [
  {
   "cell_type": "code",
   "execution_count": 2,
   "metadata": {},
   "outputs": [],
   "source": [
    "options(scipen=999)"
   ]
  },
  {
   "cell_type": "code",
   "execution_count": 3,
   "metadata": {},
   "outputs": [],
   "source": [
    "D2H = read.csv('D2H_2.csv')"
   ]
  },
  {
   "cell_type": "code",
   "execution_count": 4,
   "metadata": {},
   "outputs": [
    {
     "data": {
      "text/html": [
       "<table>\n",
       "<thead><tr><th scope=col>arraySize_KB</th><th scope=col>time_ms</th></tr></thead>\n",
       "<tbody>\n",
       "\t<tr><td>     1      </td><td>    15.86667</td></tr>\n",
       "\t<tr><td>     2      </td><td>    15.06667</td></tr>\n",
       "\t<tr><td>     4      </td><td>    19.96667</td></tr>\n",
       "\t<tr><td>     8      </td><td>    25.30000</td></tr>\n",
       "\t<tr><td>    16      </td><td>    48.43333</td></tr>\n",
       "\t<tr><td>    32      </td><td>    89.13333</td></tr>\n",
       "\t<tr><td>    64      </td><td>   179.70000</td></tr>\n",
       "\t<tr><td>   128      </td><td>   262.43332</td></tr>\n",
       "\t<tr><td>   256      </td><td>   434.60001</td></tr>\n",
       "\t<tr><td>   512      </td><td>   906.09998</td></tr>\n",
       "\t<tr><td>  1024      </td><td>  1220.00000</td></tr>\n",
       "\t<tr><td>  2048      </td><td>  2955.00000</td></tr>\n",
       "\t<tr><td>  4096      </td><td>  4789.39990</td></tr>\n",
       "\t<tr><td>  8196      </td><td> 13376.66699</td></tr>\n",
       "\t<tr><td> 16384      </td><td> 18093.43359</td></tr>\n",
       "\t<tr><td> 32768      </td><td> 33889.73438</td></tr>\n",
       "\t<tr><td> 65536      </td><td> 64856.69922</td></tr>\n",
       "\t<tr><td>131072      </td><td>138962.00000</td></tr>\n",
       "\t<tr><td>262144      </td><td>309439.34380</td></tr>\n",
       "\t<tr><td>524288      </td><td>540365.93750</td></tr>\n",
       "\t<tr><td>    NA      </td><td>          NA</td></tr>\n",
       "</tbody>\n",
       "</table>\n"
      ],
      "text/latex": [
       "\\begin{tabular}{r|ll}\n",
       " arraySize\\_KB & time\\_ms\\\\\n",
       "\\hline\n",
       "\t      1       &     15.86667\\\\\n",
       "\t      2       &     15.06667\\\\\n",
       "\t      4       &     19.96667\\\\\n",
       "\t      8       &     25.30000\\\\\n",
       "\t     16       &     48.43333\\\\\n",
       "\t     32       &     89.13333\\\\\n",
       "\t     64       &    179.70000\\\\\n",
       "\t    128       &    262.43332\\\\\n",
       "\t    256       &    434.60001\\\\\n",
       "\t    512       &    906.09998\\\\\n",
       "\t   1024       &   1220.00000\\\\\n",
       "\t   2048       &   2955.00000\\\\\n",
       "\t   4096       &   4789.39990\\\\\n",
       "\t   8196       &  13376.66699\\\\\n",
       "\t  16384       &  18093.43359\\\\\n",
       "\t  32768       &  33889.73438\\\\\n",
       "\t  65536       &  64856.69922\\\\\n",
       "\t 131072       & 138962.00000\\\\\n",
       "\t 262144       & 309439.34380\\\\\n",
       "\t 524288       & 540365.93750\\\\\n",
       "\t     NA       &           NA\\\\\n",
       "\\end{tabular}\n"
      ],
      "text/markdown": [
       "\n",
       "arraySize_KB | time_ms | \n",
       "|---|---|---|---|---|---|---|---|---|---|---|---|---|---|---|---|---|---|---|---|---|\n",
       "|      1       |     15.86667 | \n",
       "|      2       |     15.06667 | \n",
       "|      4       |     19.96667 | \n",
       "|      8       |     25.30000 | \n",
       "|     16       |     48.43333 | \n",
       "|     32       |     89.13333 | \n",
       "|     64       |    179.70000 | \n",
       "|    128       |    262.43332 | \n",
       "|    256       |    434.60001 | \n",
       "|    512       |    906.09998 | \n",
       "|   1024       |   1220.00000 | \n",
       "|   2048       |   2955.00000 | \n",
       "|   4096       |   4789.39990 | \n",
       "|   8196       |  13376.66699 | \n",
       "|  16384       |  18093.43359 | \n",
       "|  32768       |  33889.73438 | \n",
       "|  65536       |  64856.69922 | \n",
       "| 131072       | 138962.00000 | \n",
       "| 262144       | 309439.34380 | \n",
       "| 524288       | 540365.93750 | \n",
       "|     NA       |           NA | \n",
       "\n",
       "\n"
      ],
      "text/plain": [
       "   arraySize_KB time_ms     \n",
       "1       1           15.86667\n",
       "2       2           15.06667\n",
       "3       4           19.96667\n",
       "4       8           25.30000\n",
       "5      16           48.43333\n",
       "6      32           89.13333\n",
       "7      64          179.70000\n",
       "8     128          262.43332\n",
       "9     256          434.60001\n",
       "10    512          906.09998\n",
       "11   1024         1220.00000\n",
       "12   2048         2955.00000\n",
       "13   4096         4789.39990\n",
       "14   8196        13376.66699\n",
       "15  16384        18093.43359\n",
       "16  32768        33889.73438\n",
       "17  65536        64856.69922\n",
       "18 131072       138962.00000\n",
       "19 262144       309439.34380\n",
       "20 524288       540365.93750\n",
       "21     NA                 NA"
      ]
     },
     "metadata": {},
     "output_type": "display_data"
    }
   ],
   "source": [
    "D2H"
   ]
  },
  {
   "cell_type": "code",
   "execution_count": 5,
   "metadata": {},
   "outputs": [],
   "source": [
    "D2H['bandwidth']=D2H['arraySize_KB']/D2H['time_ms']"
   ]
  },
  {
   "cell_type": "code",
   "execution_count": 6,
   "metadata": {},
   "outputs": [
    {
     "data": {
      "text/html": [
       "<table>\n",
       "<thead><tr><th scope=col>arraySize_KB</th><th scope=col>time_ms</th><th scope=col>bandwidth</th></tr></thead>\n",
       "<tbody>\n",
       "\t<tr><td>     1      </td><td>    15.86667</td><td>0.06302521  </td></tr>\n",
       "\t<tr><td>     2      </td><td>    15.06667</td><td>0.13274336  </td></tr>\n",
       "\t<tr><td>     4      </td><td>    19.96667</td><td>0.20033389  </td></tr>\n",
       "\t<tr><td>     8      </td><td>    25.30000</td><td>0.31620555  </td></tr>\n",
       "\t<tr><td>    16      </td><td>    48.43333</td><td>0.33035099  </td></tr>\n",
       "\t<tr><td>    32      </td><td>    89.13333</td><td>0.35901272  </td></tr>\n",
       "\t<tr><td>    64      </td><td>   179.70000</td><td>0.35614914  </td></tr>\n",
       "\t<tr><td>   128      </td><td>   262.43332</td><td>0.48774295  </td></tr>\n",
       "\t<tr><td>   256      </td><td>   434.60001</td><td>0.58904739  </td></tr>\n",
       "\t<tr><td>   512      </td><td>   906.09998</td><td>0.56505906  </td></tr>\n",
       "\t<tr><td>  1024      </td><td>  1220.00000</td><td>0.83934426  </td></tr>\n",
       "\t<tr><td>  2048      </td><td>  2955.00000</td><td>0.69306261  </td></tr>\n",
       "\t<tr><td>  4096      </td><td>  4789.39990</td><td>0.85522197  </td></tr>\n",
       "\t<tr><td>  8196      </td><td> 13376.66699</td><td>0.61270868  </td></tr>\n",
       "\t<tr><td> 16384      </td><td> 18093.43359</td><td>0.90552188  </td></tr>\n",
       "\t<tr><td> 32768      </td><td> 33889.73438</td><td>0.96690047  </td></tr>\n",
       "\t<tr><td> 65536      </td><td> 64856.69922</td><td>1.01047387  </td></tr>\n",
       "\t<tr><td>131072      </td><td>138962.00000</td><td>0.94322189  </td></tr>\n",
       "\t<tr><td>262144      </td><td>309439.34380</td><td>0.84715795  </td></tr>\n",
       "\t<tr><td>524288      </td><td>540365.93750</td><td>0.97024620  </td></tr>\n",
       "\t<tr><td>    NA      </td><td>          NA</td><td>        NA  </td></tr>\n",
       "</tbody>\n",
       "</table>\n"
      ],
      "text/latex": [
       "\\begin{tabular}{r|lll}\n",
       " arraySize\\_KB & time\\_ms & bandwidth\\\\\n",
       "\\hline\n",
       "\t      1       &     15.86667 & 0.06302521  \\\\\n",
       "\t      2       &     15.06667 & 0.13274336  \\\\\n",
       "\t      4       &     19.96667 & 0.20033389  \\\\\n",
       "\t      8       &     25.30000 & 0.31620555  \\\\\n",
       "\t     16       &     48.43333 & 0.33035099  \\\\\n",
       "\t     32       &     89.13333 & 0.35901272  \\\\\n",
       "\t     64       &    179.70000 & 0.35614914  \\\\\n",
       "\t    128       &    262.43332 & 0.48774295  \\\\\n",
       "\t    256       &    434.60001 & 0.58904739  \\\\\n",
       "\t    512       &    906.09998 & 0.56505906  \\\\\n",
       "\t   1024       &   1220.00000 & 0.83934426  \\\\\n",
       "\t   2048       &   2955.00000 & 0.69306261  \\\\\n",
       "\t   4096       &   4789.39990 & 0.85522197  \\\\\n",
       "\t   8196       &  13376.66699 & 0.61270868  \\\\\n",
       "\t  16384       &  18093.43359 & 0.90552188  \\\\\n",
       "\t  32768       &  33889.73438 & 0.96690047  \\\\\n",
       "\t  65536       &  64856.69922 & 1.01047387  \\\\\n",
       "\t 131072       & 138962.00000 & 0.94322189  \\\\\n",
       "\t 262144       & 309439.34380 & 0.84715795  \\\\\n",
       "\t 524288       & 540365.93750 & 0.97024620  \\\\\n",
       "\t     NA       &           NA &         NA  \\\\\n",
       "\\end{tabular}\n"
      ],
      "text/markdown": [
       "\n",
       "arraySize_KB | time_ms | bandwidth | \n",
       "|---|---|---|---|---|---|---|---|---|---|---|---|---|---|---|---|---|---|---|---|---|\n",
       "|      1       |     15.86667 | 0.06302521   | \n",
       "|      2       |     15.06667 | 0.13274336   | \n",
       "|      4       |     19.96667 | 0.20033389   | \n",
       "|      8       |     25.30000 | 0.31620555   | \n",
       "|     16       |     48.43333 | 0.33035099   | \n",
       "|     32       |     89.13333 | 0.35901272   | \n",
       "|     64       |    179.70000 | 0.35614914   | \n",
       "|    128       |    262.43332 | 0.48774295   | \n",
       "|    256       |    434.60001 | 0.58904739   | \n",
       "|    512       |    906.09998 | 0.56505906   | \n",
       "|   1024       |   1220.00000 | 0.83934426   | \n",
       "|   2048       |   2955.00000 | 0.69306261   | \n",
       "|   4096       |   4789.39990 | 0.85522197   | \n",
       "|   8196       |  13376.66699 | 0.61270868   | \n",
       "|  16384       |  18093.43359 | 0.90552188   | \n",
       "|  32768       |  33889.73438 | 0.96690047   | \n",
       "|  65536       |  64856.69922 | 1.01047387   | \n",
       "| 131072       | 138962.00000 | 0.94322189   | \n",
       "| 262144       | 309439.34380 | 0.84715795   | \n",
       "| 524288       | 540365.93750 | 0.97024620   | \n",
       "|     NA       |           NA |         NA   | \n",
       "\n",
       "\n"
      ],
      "text/plain": [
       "   arraySize_KB time_ms      bandwidth \n",
       "1       1           15.86667 0.06302521\n",
       "2       2           15.06667 0.13274336\n",
       "3       4           19.96667 0.20033389\n",
       "4       8           25.30000 0.31620555\n",
       "5      16           48.43333 0.33035099\n",
       "6      32           89.13333 0.35901272\n",
       "7      64          179.70000 0.35614914\n",
       "8     128          262.43332 0.48774295\n",
       "9     256          434.60001 0.58904739\n",
       "10    512          906.09998 0.56505906\n",
       "11   1024         1220.00000 0.83934426\n",
       "12   2048         2955.00000 0.69306261\n",
       "13   4096         4789.39990 0.85522197\n",
       "14   8196        13376.66699 0.61270868\n",
       "15  16384        18093.43359 0.90552188\n",
       "16  32768        33889.73438 0.96690047\n",
       "17  65536        64856.69922 1.01047387\n",
       "18 131072       138962.00000 0.94322189\n",
       "19 262144       309439.34380 0.84715795\n",
       "20 524288       540365.93750 0.97024620\n",
       "21     NA                 NA         NA"
      ]
     },
     "metadata": {},
     "output_type": "display_data"
    }
   ],
   "source": [
    "D2H"
   ]
  },
  {
   "cell_type": "code",
   "execution_count": 4,
   "metadata": {},
   "outputs": [],
   "source": [
    "D2H['time_s']=D2H$time_ms/1000000"
   ]
  },
  {
   "cell_type": "code",
   "execution_count": 5,
   "metadata": {},
   "outputs": [],
   "source": [
    "bandwidth = D2H$arraySize_KB/D2H$time_s"
   ]
  },
  {
   "cell_type": "code",
   "execution_count": 6,
   "metadata": {},
   "outputs": [
    {
     "data": {
      "text/html": [
       "<ol class=list-inline>\n",
       "\t<li>63025.2087599746</li>\n",
       "\t<li>132743.359895058</li>\n",
       "\t<li>200333.886471888</li>\n",
       "\t<li>316205.546095081</li>\n",
       "\t<li>330350.993388149</li>\n",
       "\t<li>359012.724431896</li>\n",
       "\t<li>356149.143397036</li>\n",
       "\t<li>487742.945475609</li>\n",
       "\t<li>589047.391775692</li>\n",
       "\t<li>565059.059222401</li>\n",
       "\t<li>839344.262295082</li>\n",
       "\t<li>693062.605752961</li>\n",
       "\t<li>855221.965968963</li>\n",
       "\t<li>612708.681925556</li>\n",
       "\t<li>905521.879996023</li>\n",
       "\t<li>966900.467043436</li>\n",
       "\t<li>1010473.87221628</li>\n",
       "\t<li>943221.887998158</li>\n",
       "\t<li>847157.949538025</li>\n",
       "\t<li>970246.20468421</li>\n",
       "\t<li>&lt;NA&gt;</li>\n",
       "</ol>\n"
      ],
      "text/latex": [
       "\\begin{enumerate*}\n",
       "\\item 63025.2087599746\n",
       "\\item 132743.359895058\n",
       "\\item 200333.886471888\n",
       "\\item 316205.546095081\n",
       "\\item 330350.993388149\n",
       "\\item 359012.724431896\n",
       "\\item 356149.143397036\n",
       "\\item 487742.945475609\n",
       "\\item 589047.391775692\n",
       "\\item 565059.059222401\n",
       "\\item 839344.262295082\n",
       "\\item 693062.605752961\n",
       "\\item 855221.965968963\n",
       "\\item 612708.681925556\n",
       "\\item 905521.879996023\n",
       "\\item 966900.467043436\n",
       "\\item 1010473.87221628\n",
       "\\item 943221.887998158\n",
       "\\item 847157.949538025\n",
       "\\item 970246.20468421\n",
       "\\item <NA>\n",
       "\\end{enumerate*}\n"
      ],
      "text/markdown": [
       "1. 63025.2087599746\n",
       "2. 132743.359895058\n",
       "3. 200333.886471888\n",
       "4. 316205.546095081\n",
       "5. 330350.993388149\n",
       "6. 359012.724431896\n",
       "7. 356149.143397036\n",
       "8. 487742.945475609\n",
       "9. 589047.391775692\n",
       "10. 565059.059222401\n",
       "11. 839344.262295082\n",
       "12. 693062.605752961\n",
       "13. 855221.965968963\n",
       "14. 612708.681925556\n",
       "15. 905521.879996023\n",
       "16. 966900.467043436\n",
       "17. 1010473.87221628\n",
       "18. 943221.887998158\n",
       "19. 847157.949538025\n",
       "20. 970246.20468421\n",
       "21. &lt;NA&gt;\n",
       "\n",
       "\n"
      ],
      "text/plain": [
       " [1]   63025.21  132743.36  200333.89  316205.55  330350.99  359012.72\n",
       " [7]  356149.14  487742.95  589047.39  565059.06  839344.26  693062.61\n",
       "[13]  855221.97  612708.68  905521.88  966900.47 1010473.87  943221.89\n",
       "[19]  847157.95  970246.20         NA"
      ]
     },
     "metadata": {},
     "output_type": "display_data"
    }
   ],
   "source": [
    "bandwidth"
   ]
  },
  {
   "cell_type": "code",
   "execution_count": 8,
   "metadata": {},
   "outputs": [],
   "source": [
    "arraySize = D2H$arraySize_KB"
   ]
  },
  {
   "cell_type": "code",
   "execution_count": 9,
   "metadata": {},
   "outputs": [
    {
     "data": {
      "image/png": "[encoded data removed]",
      "text/plain": [
       "Plot with title “ D2H bandwidth vs. arraySize”"
      ]
     },
     "metadata": {},
     "output_type": "display_data"
    }
   ],
   "source": [
    "plot(arraySize,bandwidth, xlab='arraySize', ylab = 'bandwidth', main=' D2H bandwidth vs. arraySize')"
   ]
  },
  {
   "cell_type": "code",
   "execution_count": 10,
   "metadata": {},
   "outputs": [],
   "source": [
    "lmfit <- lm(bandwidth~arraySize)"
   ]
  },
  {
   "cell_type": "code",
   "execution_count": 11,
   "metadata": {},
   "outputs": [
    {
     "data": {
      "text/plain": [
       "\n",
       "Call:\n",
       "lm(formula = bandwidth ~ arraySize)\n",
       "\n",
       "Residuals:\n",
       "    Min      1Q  Median      3Q     Max \n",
       "-480744 -194126   16035  263684  393695 \n",
       "\n",
       "Coefficients:\n",
       "               Estimate  Std. Error t value    Pr(>|t|)    \n",
       "(Intercept) 543768.0945  67834.5476   8.016 0.000000238 ***\n",
       "arraySize        1.1140      0.5011   2.223      0.0392 *  \n",
       "---\n",
       "Signif. codes:  0 ‘***’ 0.001 ‘**’ 0.01 ‘*’ 0.05 ‘.’ 0.1 ‘ ’ 1\n",
       "\n",
       "Residual standard error: 279700 on 18 degrees of freedom\n",
       "  (1 observation deleted due to missingness)\n",
       "Multiple R-squared:  0.2154,\tAdjusted R-squared:  0.1718 \n",
       "F-statistic: 4.943 on 1 and 18 DF,  p-value: 0.03925\n"
      ]
     },
     "metadata": {},
     "output_type": "display_data"
    }
   ],
   "source": [
    "summary(lmfit)"
   ]
  },
  {
   "cell_type": "markdown",
   "metadata": {},
   "source": [
    "size/(543768.0945+1.1140*size)"
   ]
  },
  {
   "cell_type": "code",
   "execution_count": 16,
   "metadata": {},
   "outputs": [
    {
     "data": {
      "text/html": [
       "554034.7185"
      ],
      "text/latex": [
       "554034.7185"
      ],
      "text/markdown": [
       "554034.7185"
      ],
      "text/plain": [
       "[1] 554034.7"
      ]
     },
     "metadata": {},
     "output_type": "display_data"
    }
   ],
   "source": [
    "543768.0945+1.1140*9216"
   ]
  },
  {
   "cell_type": "code",
   "execution_count": 13,
   "metadata": {},
   "outputs": [
    {
     "data": {
      "text/html": [
       "0.0166343366079142"
      ],
      "text/latex": [
       "0.0166343366079142"
      ],
      "text/markdown": [
       "0.0166343366079142"
      ],
      "text/plain": [
       "[1] 0.01663434"
      ]
     },
     "metadata": {},
     "output_type": "display_data"
    }
   ],
   "source": [
    "9216/(543768.0945+1.1140*9216)"
   ]
  },
  {
   "cell_type": "code",
   "execution_count": null,
   "metadata": {},
   "outputs": [],
   "source": [
    "0.09474"
   ]
  },
  {
   "cell_type": "code",
   "execution_count": 14,
   "metadata": {},
   "outputs": [
    {
     "data": {
      "text/html": [
       "0.0447328396634039"
      ],
      "text/latex": [
       "0.0447328396634039"
      ],
      "text/markdown": [
       "0.0447328396634039"
      ],
      "text/plain": [
       "[1] 0.04473284"
      ]
     },
     "metadata": {},
     "output_type": "display_data"
    }
   ],
   "source": [
    "25600/(543768.0945+1.1140*25600)"
   ]
  },
  {
   "cell_type": "code",
   "execution_count": 15,
   "metadata": {},
   "outputs": [
    {
     "data": {
      "text/html": [
       "0.0947470500869893"
      ],
      "text/latex": [
       "0.0947470500869893"
      ],
      "text/markdown": [
       "0.0947470500869893"
      ],
      "text/plain": [
       "[1] 0.09474705"
      ]
     },
     "metadata": {},
     "output_type": "display_data"
    }
   ],
   "source": [
    "57600/(543768.0945+1.1140*57600)"
   ]
  },
  {
   "cell_type": "code",
   "execution_count": null,
   "metadata": {},
   "outputs": [],
   "source": []
  }
 ],
 "metadata": {
  "kernelspec": {
   "display_name": "R",
   "language": "R",
   "name": "ir"
  },
  "language_info": {
   "codemirror_mode": "r",
   "file_extension": ".r",
   "mimetype": "text/x-r-source",
   "name": "R",
   "pygments_lexer": "r",
   "version": "3.5.1"
  }
 },
 "nbformat": 4,
 "nbformat_minor": 2
}
