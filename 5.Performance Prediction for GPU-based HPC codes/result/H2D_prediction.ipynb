{
 "cells": [
  {
   "cell_type": "code",
   "execution_count": 1,
   "metadata": {},
   "outputs": [],
   "source": [
    "options(scipen=999)"
   ]
  },
  {
   "cell_type": "code",
   "execution_count": 2,
   "metadata": {},
   "outputs": [],
   "source": [
    "H2D = read.csv('H2D_2.csv')"
   ]
  },
  {
   "cell_type": "code",
   "execution_count": 8,
   "metadata": {},
   "outputs": [
    {
     "data": {
      "text/html": [
       "<table>\n",
       "<thead><tr><th scope=col>arraySize_KB</th><th scope=col>time_ms</th><th scope=col>bandwidth</th></tr></thead>\n",
       "<tbody>\n",
       "\t<tr><td>     1      </td><td>    11.70000</td><td>NA          </td></tr>\n",
       "\t<tr><td>     2      </td><td>    12.60000</td><td>NA          </td></tr>\n",
       "\t<tr><td>     4      </td><td>    13.46667</td><td>NA          </td></tr>\n",
       "\t<tr><td>     8      </td><td>    19.66667</td><td>NA          </td></tr>\n",
       "\t<tr><td>    16      </td><td>    56.50000</td><td>NA          </td></tr>\n",
       "\t<tr><td>    32      </td><td>    67.70000</td><td>NA          </td></tr>\n",
       "\t<tr><td>    64      </td><td>    86.46667</td><td>NA          </td></tr>\n",
       "\t<tr><td>   128      </td><td>   162.16667</td><td>NA          </td></tr>\n",
       "\t<tr><td>   256      </td><td>   304.89999</td><td>NA          </td></tr>\n",
       "\t<tr><td>   512      </td><td>   645.43335</td><td>NA          </td></tr>\n",
       "\t<tr><td>  1024      </td><td>  1013.29999</td><td>NA          </td></tr>\n",
       "\t<tr><td>  2048      </td><td>  2083.86670</td><td>NA          </td></tr>\n",
       "\t<tr><td>  4096      </td><td>  4047.03345</td><td>NA          </td></tr>\n",
       "\t<tr><td>  8196      </td><td>  8887.46680</td><td>NA          </td></tr>\n",
       "\t<tr><td> 16384      </td><td> 18273.09961</td><td>NA          </td></tr>\n",
       "\t<tr><td> 32768      </td><td> 29746.73242</td><td>NA          </td></tr>\n",
       "\t<tr><td> 65536      </td><td> 73312.42969</td><td>NA          </td></tr>\n",
       "\t<tr><td>131072      </td><td>137917.32810</td><td>NA          </td></tr>\n",
       "\t<tr><td>262144      </td><td>261403.17190</td><td>NA          </td></tr>\n",
       "\t<tr><td>524288      </td><td>543245.25000</td><td>NA          </td></tr>\n",
       "</tbody>\n",
       "</table>\n"
      ],
      "text/latex": [
       "\\begin{tabular}{r|lll}\n",
       " arraySize\\_KB & time\\_ms & bandwidth\\\\\n",
       "\\hline\n",
       "\t      1       &     11.70000 & NA          \\\\\n",
       "\t      2       &     12.60000 & NA          \\\\\n",
       "\t      4       &     13.46667 & NA          \\\\\n",
       "\t      8       &     19.66667 & NA          \\\\\n",
       "\t     16       &     56.50000 & NA          \\\\\n",
       "\t     32       &     67.70000 & NA          \\\\\n",
       "\t     64       &     86.46667 & NA          \\\\\n",
       "\t    128       &    162.16667 & NA          \\\\\n",
       "\t    256       &    304.89999 & NA          \\\\\n",
       "\t    512       &    645.43335 & NA          \\\\\n",
       "\t   1024       &   1013.29999 & NA          \\\\\n",
       "\t   2048       &   2083.86670 & NA          \\\\\n",
       "\t   4096       &   4047.03345 & NA          \\\\\n",
       "\t   8196       &   8887.46680 & NA          \\\\\n",
       "\t  16384       &  18273.09961 & NA          \\\\\n",
       "\t  32768       &  29746.73242 & NA          \\\\\n",
       "\t  65536       &  73312.42969 & NA          \\\\\n",
       "\t 131072       & 137917.32810 & NA          \\\\\n",
       "\t 262144       & 261403.17190 & NA          \\\\\n",
       "\t 524288       & 543245.25000 & NA          \\\\\n",
       "\\end{tabular}\n"
      ],
      "text/markdown": [
       "\n",
       "arraySize_KB | time_ms | bandwidth | \n",
       "|---|---|---|---|---|---|---|---|---|---|---|---|---|---|---|---|---|---|---|---|\n",
       "|      1       |     11.70000 | NA           | \n",
       "|      2       |     12.60000 | NA           | \n",
       "|      4       |     13.46667 | NA           | \n",
       "|      8       |     19.66667 | NA           | \n",
       "|     16       |     56.50000 | NA           | \n",
       "|     32       |     67.70000 | NA           | \n",
       "|     64       |     86.46667 | NA           | \n",
       "|    128       |    162.16667 | NA           | \n",
       "|    256       |    304.89999 | NA           | \n",
       "|    512       |    645.43335 | NA           | \n",
       "|   1024       |   1013.29999 | NA           | \n",
       "|   2048       |   2083.86670 | NA           | \n",
       "|   4096       |   4047.03345 | NA           | \n",
       "|   8196       |   8887.46680 | NA           | \n",
       "|  16384       |  18273.09961 | NA           | \n",
       "|  32768       |  29746.73242 | NA           | \n",
       "|  65536       |  73312.42969 | NA           | \n",
       "| 131072       | 137917.32810 | NA           | \n",
       "| 262144       | 261403.17190 | NA           | \n",
       "| 524288       | 543245.25000 | NA           | \n",
       "\n",
       "\n"
      ],
      "text/plain": [
       "   arraySize_KB time_ms      bandwidth\n",
       "1       1           11.70000 NA       \n",
       "2       2           12.60000 NA       \n",
       "3       4           13.46667 NA       \n",
       "4       8           19.66667 NA       \n",
       "5      16           56.50000 NA       \n",
       "6      32           67.70000 NA       \n",
       "7      64           86.46667 NA       \n",
       "8     128          162.16667 NA       \n",
       "9     256          304.89999 NA       \n",
       "10    512          645.43335 NA       \n",
       "11   1024         1013.29999 NA       \n",
       "12   2048         2083.86670 NA       \n",
       "13   4096         4047.03345 NA       \n",
       "14   8196         8887.46680 NA       \n",
       "15  16384        18273.09961 NA       \n",
       "16  32768        29746.73242 NA       \n",
       "17  65536        73312.42969 NA       \n",
       "18 131072       137917.32810 NA       \n",
       "19 262144       261403.17190 NA       \n",
       "20 524288       543245.25000 NA       "
      ]
     },
     "metadata": {},
     "output_type": "display_data"
    }
   ],
   "source": [
    "H2D"
   ]
  },
  {
   "cell_type": "code",
   "execution_count": 11,
   "metadata": {},
   "outputs": [],
   "source": [
    "H2D['bandwidth']=H2D['arraySize_KB']/H2D['time_ms']"
   ]
  },
  {
   "cell_type": "code",
   "execution_count": 12,
   "metadata": {},
   "outputs": [
    {
     "data": {
      "text/html": [
       "<table>\n",
       "<thead><tr><th scope=col>arraySize_KB</th><th scope=col>time_ms</th><th scope=col>bandwidth</th></tr></thead>\n",
       "<tbody>\n",
       "\t<tr><td>     1      </td><td>    11.70000</td><td>0.08547009  </td></tr>\n",
       "\t<tr><td>     2      </td><td>    12.60000</td><td>0.15873016  </td></tr>\n",
       "\t<tr><td>     4      </td><td>    13.46667</td><td>0.29702972  </td></tr>\n",
       "\t<tr><td>     8      </td><td>    19.66667</td><td>0.40677967  </td></tr>\n",
       "\t<tr><td>    16      </td><td>    56.50000</td><td>0.28318584  </td></tr>\n",
       "\t<tr><td>    32      </td><td>    67.70000</td><td>0.47267358  </td></tr>\n",
       "\t<tr><td>    64      </td><td>    86.46667</td><td>0.74016962  </td></tr>\n",
       "\t<tr><td>   128      </td><td>   162.16667</td><td>0.78931138  </td></tr>\n",
       "\t<tr><td>   256      </td><td>   304.89999</td><td>0.83961956  </td></tr>\n",
       "\t<tr><td>   512      </td><td>   645.43335</td><td>0.79326549  </td></tr>\n",
       "\t<tr><td>  1024      </td><td>  1013.29999</td><td>1.01055957  </td></tr>\n",
       "\t<tr><td>  2048      </td><td>  2083.86670</td><td>0.98278839  </td></tr>\n",
       "\t<tr><td>  4096      </td><td>  4047.03345</td><td>1.01209937  </td></tr>\n",
       "\t<tr><td>  8196      </td><td>  8887.46680</td><td>0.92219754  </td></tr>\n",
       "\t<tr><td> 16384      </td><td> 18273.09961</td><td>0.89661855  </td></tr>\n",
       "\t<tr><td> 32768      </td><td> 29746.73242</td><td>1.10156637  </td></tr>\n",
       "\t<tr><td> 65536      </td><td> 73312.42969</td><td>0.89392754  </td></tr>\n",
       "\t<tr><td>131072      </td><td>137917.32810</td><td>0.95036644  </td></tr>\n",
       "\t<tr><td>262144      </td><td>261403.17190</td><td>1.00283404  </td></tr>\n",
       "\t<tr><td>524288      </td><td>543245.25000</td><td>0.96510370  </td></tr>\n",
       "</tbody>\n",
       "</table>\n"
      ],
      "text/latex": [
       "\\begin{tabular}{r|lll}\n",
       " arraySize\\_KB & time\\_ms & bandwidth\\\\\n",
       "\\hline\n",
       "\t      1       &     11.70000 & 0.08547009  \\\\\n",
       "\t      2       &     12.60000 & 0.15873016  \\\\\n",
       "\t      4       &     13.46667 & 0.29702972  \\\\\n",
       "\t      8       &     19.66667 & 0.40677967  \\\\\n",
       "\t     16       &     56.50000 & 0.28318584  \\\\\n",
       "\t     32       &     67.70000 & 0.47267358  \\\\\n",
       "\t     64       &     86.46667 & 0.74016962  \\\\\n",
       "\t    128       &    162.16667 & 0.78931138  \\\\\n",
       "\t    256       &    304.89999 & 0.83961956  \\\\\n",
       "\t    512       &    645.43335 & 0.79326549  \\\\\n",
       "\t   1024       &   1013.29999 & 1.01055957  \\\\\n",
       "\t   2048       &   2083.86670 & 0.98278839  \\\\\n",
       "\t   4096       &   4047.03345 & 1.01209937  \\\\\n",
       "\t   8196       &   8887.46680 & 0.92219754  \\\\\n",
       "\t  16384       &  18273.09961 & 0.89661855  \\\\\n",
       "\t  32768       &  29746.73242 & 1.10156637  \\\\\n",
       "\t  65536       &  73312.42969 & 0.89392754  \\\\\n",
       "\t 131072       & 137917.32810 & 0.95036644  \\\\\n",
       "\t 262144       & 261403.17190 & 1.00283404  \\\\\n",
       "\t 524288       & 543245.25000 & 0.96510370  \\\\\n",
       "\\end{tabular}\n"
      ],
      "text/markdown": [
       "\n",
       "arraySize_KB | time_ms | bandwidth | \n",
       "|---|---|---|---|---|---|---|---|---|---|---|---|---|---|---|---|---|---|---|---|\n",
       "|      1       |     11.70000 | 0.08547009   | \n",
       "|      2       |     12.60000 | 0.15873016   | \n",
       "|      4       |     13.46667 | 0.29702972   | \n",
       "|      8       |     19.66667 | 0.40677967   | \n",
       "|     16       |     56.50000 | 0.28318584   | \n",
       "|     32       |     67.70000 | 0.47267358   | \n",
       "|     64       |     86.46667 | 0.74016962   | \n",
       "|    128       |    162.16667 | 0.78931138   | \n",
       "|    256       |    304.89999 | 0.83961956   | \n",
       "|    512       |    645.43335 | 0.79326549   | \n",
       "|   1024       |   1013.29999 | 1.01055957   | \n",
       "|   2048       |   2083.86670 | 0.98278839   | \n",
       "|   4096       |   4047.03345 | 1.01209937   | \n",
       "|   8196       |   8887.46680 | 0.92219754   | \n",
       "|  16384       |  18273.09961 | 0.89661855   | \n",
       "|  32768       |  29746.73242 | 1.10156637   | \n",
       "|  65536       |  73312.42969 | 0.89392754   | \n",
       "| 131072       | 137917.32810 | 0.95036644   | \n",
       "| 262144       | 261403.17190 | 1.00283404   | \n",
       "| 524288       | 543245.25000 | 0.96510370   | \n",
       "\n",
       "\n"
      ],
      "text/plain": [
       "   arraySize_KB time_ms      bandwidth \n",
       "1       1           11.70000 0.08547009\n",
       "2       2           12.60000 0.15873016\n",
       "3       4           13.46667 0.29702972\n",
       "4       8           19.66667 0.40677967\n",
       "5      16           56.50000 0.28318584\n",
       "6      32           67.70000 0.47267358\n",
       "7      64           86.46667 0.74016962\n",
       "8     128          162.16667 0.78931138\n",
       "9     256          304.89999 0.83961956\n",
       "10    512          645.43335 0.79326549\n",
       "11   1024         1013.29999 1.01055957\n",
       "12   2048         2083.86670 0.98278839\n",
       "13   4096         4047.03345 1.01209937\n",
       "14   8196         8887.46680 0.92219754\n",
       "15  16384        18273.09961 0.89661855\n",
       "16  32768        29746.73242 1.10156637\n",
       "17  65536        73312.42969 0.89392754\n",
       "18 131072       137917.32810 0.95036644\n",
       "19 262144       261403.17190 1.00283404\n",
       "20 524288       543245.25000 0.96510370"
      ]
     },
     "metadata": {},
     "output_type": "display_data"
    }
   ],
   "source": [
    "H2D"
   ]
  },
  {
   "cell_type": "code",
   "execution_count": 7,
   "metadata": {},
   "outputs": [],
   "source": [
    "H2D['time_s']=H2D$time_ms/1000000"
   ]
  },
  {
   "cell_type": "code",
   "execution_count": 8,
   "metadata": {
    "scrolled": false
   },
   "outputs": [
    {
     "data": {
      "text/html": [
       "<table>\n",
       "<thead><tr><th scope=col>arraySize_KB</th><th scope=col>time_ms</th><th scope=col>time_s</th></tr></thead>\n",
       "<tbody>\n",
       "\t<tr><td>     1       </td><td>    11.70000 </td><td>0.00001170000</td></tr>\n",
       "\t<tr><td>     2       </td><td>    12.60000 </td><td>0.00001260000</td></tr>\n",
       "\t<tr><td>     4       </td><td>    13.46667 </td><td>0.00001346667</td></tr>\n",
       "\t<tr><td>     8       </td><td>    19.66667 </td><td>0.00001966667</td></tr>\n",
       "\t<tr><td>    16       </td><td>    56.50000 </td><td>0.00005650000</td></tr>\n",
       "\t<tr><td>    32       </td><td>    67.70000 </td><td>0.00006770000</td></tr>\n",
       "\t<tr><td>    64       </td><td>    86.46667 </td><td>0.00008646667</td></tr>\n",
       "\t<tr><td>   128       </td><td>   162.16667 </td><td>0.00016216667</td></tr>\n",
       "\t<tr><td>   256       </td><td>   304.89999 </td><td>0.00030489999</td></tr>\n",
       "\t<tr><td>   512       </td><td>   645.43335 </td><td>0.00064543335</td></tr>\n",
       "\t<tr><td>  1024       </td><td>  1013.29999 </td><td>0.00101329999</td></tr>\n",
       "\t<tr><td>  2048       </td><td>  2083.86670 </td><td>0.00208386670</td></tr>\n",
       "\t<tr><td>  4096       </td><td>  4047.03345 </td><td>0.00404703345</td></tr>\n",
       "\t<tr><td>  8196       </td><td>  8887.46680 </td><td>0.00888746680</td></tr>\n",
       "\t<tr><td> 16384       </td><td> 18273.09961 </td><td>0.01827309961</td></tr>\n",
       "\t<tr><td> 32768       </td><td> 29746.73242 </td><td>0.02974673242</td></tr>\n",
       "\t<tr><td> 65536       </td><td> 73312.42969 </td><td>0.07331242969</td></tr>\n",
       "\t<tr><td>131072       </td><td>137917.32810 </td><td>0.13791732810</td></tr>\n",
       "\t<tr><td>262144       </td><td>261403.17190 </td><td>0.26140317190</td></tr>\n",
       "\t<tr><td>524288       </td><td>543245.25000 </td><td>0.54324525000</td></tr>\n",
       "</tbody>\n",
       "</table>\n"
      ],
      "text/latex": [
       "\\begin{tabular}{r|lll}\n",
       " arraySize\\_KB & time\\_ms & time\\_s\\\\\n",
       "\\hline\n",
       "\t      1        &     11.70000  & 0.00001170000\\\\\n",
       "\t      2        &     12.60000  & 0.00001260000\\\\\n",
       "\t      4        &     13.46667  & 0.00001346667\\\\\n",
       "\t      8        &     19.66667  & 0.00001966667\\\\\n",
       "\t     16        &     56.50000  & 0.00005650000\\\\\n",
       "\t     32        &     67.70000  & 0.00006770000\\\\\n",
       "\t     64        &     86.46667  & 0.00008646667\\\\\n",
       "\t    128        &    162.16667  & 0.00016216667\\\\\n",
       "\t    256        &    304.89999  & 0.00030489999\\\\\n",
       "\t    512        &    645.43335  & 0.00064543335\\\\\n",
       "\t   1024        &   1013.29999  & 0.00101329999\\\\\n",
       "\t   2048        &   2083.86670  & 0.00208386670\\\\\n",
       "\t   4096        &   4047.03345  & 0.00404703345\\\\\n",
       "\t   8196        &   8887.46680  & 0.00888746680\\\\\n",
       "\t  16384        &  18273.09961  & 0.01827309961\\\\\n",
       "\t  32768        &  29746.73242  & 0.02974673242\\\\\n",
       "\t  65536        &  73312.42969  & 0.07331242969\\\\\n",
       "\t 131072        & 137917.32810  & 0.13791732810\\\\\n",
       "\t 262144        & 261403.17190  & 0.26140317190\\\\\n",
       "\t 524288        & 543245.25000  & 0.54324525000\\\\\n",
       "\\end{tabular}\n"
      ],
      "text/markdown": [
       "\n",
       "arraySize_KB | time_ms | time_s | \n",
       "|---|---|---|---|---|---|---|---|---|---|---|---|---|---|---|---|---|---|---|---|\n",
       "|      1        |     11.70000  | 0.00001170000 | \n",
       "|      2        |     12.60000  | 0.00001260000 | \n",
       "|      4        |     13.46667  | 0.00001346667 | \n",
       "|      8        |     19.66667  | 0.00001966667 | \n",
       "|     16        |     56.50000  | 0.00005650000 | \n",
       "|     32        |     67.70000  | 0.00006770000 | \n",
       "|     64        |     86.46667  | 0.00008646667 | \n",
       "|    128        |    162.16667  | 0.00016216667 | \n",
       "|    256        |    304.89999  | 0.00030489999 | \n",
       "|    512        |    645.43335  | 0.00064543335 | \n",
       "|   1024        |   1013.29999  | 0.00101329999 | \n",
       "|   2048        |   2083.86670  | 0.00208386670 | \n",
       "|   4096        |   4047.03345  | 0.00404703345 | \n",
       "|   8196        |   8887.46680  | 0.00888746680 | \n",
       "|  16384        |  18273.09961  | 0.01827309961 | \n",
       "|  32768        |  29746.73242  | 0.02974673242 | \n",
       "|  65536        |  73312.42969  | 0.07331242969 | \n",
       "| 131072        | 137917.32810  | 0.13791732810 | \n",
       "| 262144        | 261403.17190  | 0.26140317190 | \n",
       "| 524288        | 543245.25000  | 0.54324525000 | \n",
       "\n",
       "\n"
      ],
      "text/plain": [
       "   arraySize_KB time_ms      time_s       \n",
       "1       1           11.70000 0.00001170000\n",
       "2       2           12.60000 0.00001260000\n",
       "3       4           13.46667 0.00001346667\n",
       "4       8           19.66667 0.00001966667\n",
       "5      16           56.50000 0.00005650000\n",
       "6      32           67.70000 0.00006770000\n",
       "7      64           86.46667 0.00008646667\n",
       "8     128          162.16667 0.00016216667\n",
       "9     256          304.89999 0.00030489999\n",
       "10    512          645.43335 0.00064543335\n",
       "11   1024         1013.29999 0.00101329999\n",
       "12   2048         2083.86670 0.00208386670\n",
       "13   4096         4047.03345 0.00404703345\n",
       "14   8196         8887.46680 0.00888746680\n",
       "15  16384        18273.09961 0.01827309961\n",
       "16  32768        29746.73242 0.02974673242\n",
       "17  65536        73312.42969 0.07331242969\n",
       "18 131072       137917.32810 0.13791732810\n",
       "19 262144       261403.17190 0.26140317190\n",
       "20 524288       543245.25000 0.54324525000"
      ]
     },
     "metadata": {},
     "output_type": "display_data"
    }
   ],
   "source": [
    "H2D"
   ]
  },
  {
   "cell_type": "code",
   "execution_count": 9,
   "metadata": {},
   "outputs": [],
   "source": [
    "bandwidth = H2D$arraySize_KB/H2D$time_s"
   ]
  },
  {
   "cell_type": "code",
   "execution_count": 10,
   "metadata": {},
   "outputs": [
    {
     "data": {
      "text/html": [
       "<ol class=list-inline>\n",
       "\t<li>85470.0854700855</li>\n",
       "\t<li>158730.158730159</li>\n",
       "\t<li>297029.717674738</li>\n",
       "\t<li>406779.674806091</li>\n",
       "\t<li>283185.840707965</li>\n",
       "\t<li>472673.580768401</li>\n",
       "\t<li>740169.619351698</li>\n",
       "\t<li>789311.382057591</li>\n",
       "\t<li>839619.563915111</li>\n",
       "\t<li>793265.48589409</li>\n",
       "\t<li>1010559.56984774</li>\n",
       "\t<li>982788.390919049</li>\n",
       "\t<li>1012099.36948663</li>\n",
       "\t<li>922197.538084372</li>\n",
       "\t<li>896618.545823163</li>\n",
       "\t<li>1101566.36827676</li>\n",
       "\t<li>893927.541033868</li>\n",
       "\t<li>950366.439124773</li>\n",
       "\t<li>1002834.0440348</li>\n",
       "\t<li>965103.69855972</li>\n",
       "</ol>\n"
      ],
      "text/latex": [
       "\\begin{enumerate*}\n",
       "\\item 85470.0854700855\n",
       "\\item 158730.158730159\n",
       "\\item 297029.717674738\n",
       "\\item 406779.674806091\n",
       "\\item 283185.840707965\n",
       "\\item 472673.580768401\n",
       "\\item 740169.619351698\n",
       "\\item 789311.382057591\n",
       "\\item 839619.563915111\n",
       "\\item 793265.48589409\n",
       "\\item 1010559.56984774\n",
       "\\item 982788.390919049\n",
       "\\item 1012099.36948663\n",
       "\\item 922197.538084372\n",
       "\\item 896618.545823163\n",
       "\\item 1101566.36827676\n",
       "\\item 893927.541033868\n",
       "\\item 950366.439124773\n",
       "\\item 1002834.0440348\n",
       "\\item 965103.69855972\n",
       "\\end{enumerate*}\n"
      ],
      "text/markdown": [
       "1. 85470.0854700855\n",
       "2. 158730.158730159\n",
       "3. 297029.717674738\n",
       "4. 406779.674806091\n",
       "5. 283185.840707965\n",
       "6. 472673.580768401\n",
       "7. 740169.619351698\n",
       "8. 789311.382057591\n",
       "9. 839619.563915111\n",
       "10. 793265.48589409\n",
       "11. 1010559.56984774\n",
       "12. 982788.390919049\n",
       "13. 1012099.36948663\n",
       "14. 922197.538084372\n",
       "15. 896618.545823163\n",
       "16. 1101566.36827676\n",
       "17. 893927.541033868\n",
       "18. 950366.439124773\n",
       "19. 1002834.0440348\n",
       "20. 965103.69855972\n",
       "\n",
       "\n"
      ],
      "text/plain": [
       " [1]   85470.09  158730.16  297029.72  406779.67  283185.84  472673.58\n",
       " [7]  740169.62  789311.38  839619.56  793265.49 1010559.57  982788.39\n",
       "[13] 1012099.37  922197.54  896618.55 1101566.37  893927.54  950366.44\n",
       "[19] 1002834.04  965103.70"
      ]
     },
     "metadata": {},
     "output_type": "display_data"
    }
   ],
   "source": [
    "bandwidth"
   ]
  },
  {
   "cell_type": "code",
   "execution_count": 12,
   "metadata": {},
   "outputs": [],
   "source": [
    "arraySize = H2D$arraySize_KB"
   ]
  },
  {
   "cell_type": "code",
   "execution_count": 13,
   "metadata": {},
   "outputs": [
    {
     "data": {
      "text/html": [
       "<ol class=list-inline>\n",
       "\t<li>1</li>\n",
       "\t<li>2</li>\n",
       "\t<li>4</li>\n",
       "\t<li>8</li>\n",
       "\t<li>16</li>\n",
       "\t<li>32</li>\n",
       "\t<li>64</li>\n",
       "\t<li>128</li>\n",
       "\t<li>256</li>\n",
       "\t<li>512</li>\n",
       "\t<li>1024</li>\n",
       "\t<li>2048</li>\n",
       "\t<li>4096</li>\n",
       "\t<li>8196</li>\n",
       "\t<li>16384</li>\n",
       "\t<li>32768</li>\n",
       "\t<li>65536</li>\n",
       "\t<li>131072</li>\n",
       "\t<li>262144</li>\n",
       "\t<li>524288</li>\n",
       "</ol>\n"
      ],
      "text/latex": [
       "\\begin{enumerate*}\n",
       "\\item 1\n",
       "\\item 2\n",
       "\\item 4\n",
       "\\item 8\n",
       "\\item 16\n",
       "\\item 32\n",
       "\\item 64\n",
       "\\item 128\n",
       "\\item 256\n",
       "\\item 512\n",
       "\\item 1024\n",
       "\\item 2048\n",
       "\\item 4096\n",
       "\\item 8196\n",
       "\\item 16384\n",
       "\\item 32768\n",
       "\\item 65536\n",
       "\\item 131072\n",
       "\\item 262144\n",
       "\\item 524288\n",
       "\\end{enumerate*}\n"
      ],
      "text/markdown": [
       "1. 1\n",
       "2. 2\n",
       "3. 4\n",
       "4. 8\n",
       "5. 16\n",
       "6. 32\n",
       "7. 64\n",
       "8. 128\n",
       "9. 256\n",
       "10. 512\n",
       "11. 1024\n",
       "12. 2048\n",
       "13. 4096\n",
       "14. 8196\n",
       "15. 16384\n",
       "16. 32768\n",
       "17. 65536\n",
       "18. 131072\n",
       "19. 262144\n",
       "20. 524288\n",
       "\n",
       "\n"
      ],
      "text/plain": [
       " [1]      1      2      4      8     16     32     64    128    256    512\n",
       "[11]   1024   2048   4096   8196  16384  32768  65536 131072 262144 524288"
      ]
     },
     "metadata": {},
     "output_type": "display_data"
    }
   ],
   "source": [
    "arraySize"
   ]
  },
  {
   "cell_type": "code",
   "execution_count": 14,
   "metadata": {
    "scrolled": false
   },
   "outputs": [
    {
     "data": {
      "image/png": "[encoded data removed]",
      "text/plain": [
       "Plot with title “ H2D bandwidth vs. arraySize”"
      ]
     },
     "metadata": {},
     "output_type": "display_data"
    }
   ],
   "source": [
    "plot(arraySize, bandwidth, xlab='arraySize', ylab = 'bandwidth', main=' H2D bandwidth vs. arraySize')"
   ]
  },
  {
   "cell_type": "code",
   "execution_count": 15,
   "metadata": {},
   "outputs": [],
   "source": [
    "lmfit <- lm(bandwidth~arraySize)"
   ]
  },
  {
   "cell_type": "code",
   "execution_count": 16,
   "metadata": {},
   "outputs": [
    {
     "data": {
      "text/plain": [
       "\n",
       "Call:\n",
       "lm(formula = bandwidth ~ arraySize)\n",
       "\n",
       "Residuals:\n",
       "    Min      1Q  Median      3Q     Max \n",
       "-602222 -231512  103842  203694  387298 \n",
       "\n",
       "Coefficients:\n",
       "               Estimate  Std. Error t value     Pr(>|t|)    \n",
       "(Intercept) 687690.7993  75502.0145   9.108 0.0000000368 ***\n",
       "arraySize        0.8111      0.5577   1.454        0.163    \n",
       "---\n",
       "Signif. codes:  0 ‘***’ 0.001 ‘**’ 0.01 ‘*’ 0.05 ‘.’ 0.1 ‘ ’ 1\n",
       "\n",
       "Residual standard error: 311300 on 18 degrees of freedom\n",
       "Multiple R-squared:  0.1051,\tAdjusted R-squared:  0.05542 \n",
       "F-statistic: 2.115 on 1 and 18 DF,  p-value: 0.1631\n"
      ]
     },
     "metadata": {},
     "output_type": "display_data"
    }
   ],
   "source": [
    "summary(lmfit)"
   ]
  },
  {
   "cell_type": "markdown",
   "metadata": {},
   "source": [
    "3072x3072:"
   ]
  },
  {
   "cell_type": "code",
   "execution_count": 17,
   "metadata": {},
   "outputs": [
    {
     "data": {
      "text/html": [
       "695165.8969"
      ],
      "text/latex": [
       "695165.8969"
      ],
      "text/markdown": [
       "695165.8969"
      ],
      "text/plain": [
       "[1] 695165.9"
      ]
     },
     "metadata": {},
     "output_type": "display_data"
    }
   ],
   "source": [
    "687690.7993+0.8111*9216"
   ]
  },
  {
   "cell_type": "code",
   "execution_count": 19,
   "metadata": {},
   "outputs": [
    {
     "data": {
      "text/html": [
       "0.0132572671373805"
      ],
      "text/latex": [
       "0.0132572671373805"
      ],
      "text/markdown": [
       "0.0132572671373805"
      ],
      "text/plain": [
       "[1] 0.01325727"
      ]
     },
     "metadata": {},
     "output_type": "display_data"
    }
   ],
   "source": [
    "9216/695165.8969"
   ]
  },
  {
   "cell_type": "markdown",
   "metadata": {},
   "source": [
    "5120x5120"
   ]
  },
  {
   "cell_type": "code",
   "execution_count": 21,
   "metadata": {},
   "outputs": [
    {
     "data": {
      "text/html": [
       "0.0361349718340521"
      ],
      "text/latex": [
       "0.0361349718340521"
      ],
      "text/markdown": [
       "0.0361349718340521"
      ],
      "text/plain": [
       "[1] 0.03613497"
      ]
     },
     "metadata": {},
     "output_type": "display_data"
    }
   ],
   "source": [
    "25600/(687690.7993+0.8111*25600)"
   ]
  },
  {
   "cell_type": "markdown",
   "metadata": {},
   "source": [
    "7680x7680"
   ]
  },
  {
   "cell_type": "code",
   "execution_count": 22,
   "metadata": {},
   "outputs": [
    {
     "data": {
      "text/html": [
       "0.0784302875860285"
      ],
      "text/latex": [
       "0.0784302875860285"
      ],
      "text/markdown": [
       "0.0784302875860285"
      ],
      "text/plain": [
       "[1] 0.07843029"
      ]
     },
     "metadata": {},
     "output_type": "display_data"
    }
   ],
   "source": [
    "57600/(687690.7993+0.8111*57600)"
   ]
  },
  {
   "cell_type": "code",
   "execution_count": null,
   "metadata": {},
   "outputs": [],
   "source": []
  }
 ],
 "metadata": {
  "kernelspec": {
   "display_name": "R",
   "language": "R",
   "name": "ir"
  },
  "language_info": {
   "codemirror_mode": "r",
   "file_extension": ".r",
   "mimetype": "text/x-r-source",
   "name": "R",
   "pygments_lexer": "r",
   "version": "3.5.1"
  }
 },
 "nbformat": 4,
 "nbformat_minor": 2
}
